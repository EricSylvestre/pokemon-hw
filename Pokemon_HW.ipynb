{
 "cells": [
  {
   "cell_type": "code",
   "execution_count": 14,
   "id": "054b2928",
   "metadata": {},
   "outputs": [
    {
     "name": "stdout",
     "output_type": "stream",
     "text": [
      "[<Pokemon:charmander>, <Pokemon:charmeleon>, <Pokemon:charizard>, <Pokemon:vulpix>, <Pokemon:ninetales>, <Pokemon:growlithe>, <Pokemon:squirtle>, <Pokemon:wartortle>, <Pokemon:blastoise>, <Pokemon:psyduck>, <Pokemon:golduck>, <Pokemon:poliwag>, <Pokemon:pikachu>, <Pokemon:raichu>, <Pokemon:magnemite>, <Pokemon:magneton>, <Pokemon:voltorb>, <Pokemon:electrode>, <Pokemon:bulbasaur>, <Pokemon:ivysaur>, <Pokemon:venusaur>, <Pokemon:oddish>, <Pokemon:gloom>, <Pokemon:vileplume>, <Pokemon:geodude>, <Pokemon:graveler>, <Pokemon:golem>, <Pokemon:onix>, <Pokemon:rhyhorn>, <Pokemon:rhydon>]\n"
     ]
    }
   ],
   "source": [
    "import json\n",
    "import requests\n",
    "\n",
    "\n",
    "class Pokemon():\n",
    "    def __init__(self, name, url):\n",
    "        self.name = name\n",
    "        self.data = requests.get(url).json()\n",
    "        self.height = self.data['height']\n",
    "        self.weight = self.data['weight']\n",
    "        self.stats = self.data['stats']\n",
    "        \n",
    "    def __repr__(self):\n",
    "        return f'<Pokemon:{self.name}>'\n",
    "        \n",
    "        \n",
    "        \n",
    "    \n",
    "types = ['fire', 'water', 'electric', 'grass', 'rock']\n",
    "pokelist = []\n",
    "for poketype in types:\n",
    "    api_link = f\"https://pokeapi.co/api/v2/type/{poketype}/\"\n",
    "    data = requests.get(api_link).json()\n",
    "    \n",
    "    for idx in range(0,6):\n",
    "#         print(data['pokemon'][idx])\n",
    "        name = data['pokemon'][idx]['pokemon']['name']\n",
    "        url = data['pokemon'][idx]['pokemon']['url']\n",
    "        pokelist.append(Pokemon(name, url))\n",
    "print(pokelist)\n",
    "\n",
    "\n",
    "\n",
    "\n",
    "\n",
    "\n",
    "\n",
    "\n",
    "\n",
    "\n",
    "\n"
   ]
  },
  {
   "cell_type": "code",
   "execution_count": null,
   "id": "e307774c",
   "metadata": {},
   "outputs": [],
   "source": []
  },
  {
   "cell_type": "code",
   "execution_count": null,
   "id": "bdcc736c",
   "metadata": {},
   "outputs": [],
   "source": [
    "# import requests\n",
    "\n",
    "# url= \"https://pokeapi.co/api/v2/pokemon?limit=150\"\n",
    "# response = requests.get(url)\n",
    "# data = response.json()"
   ]
  }
 ],
 "metadata": {
  "kernelspec": {
   "display_name": "Python 3 (ipykernel)",
   "language": "python",
   "name": "python3"
  },
  "language_info": {
   "codemirror_mode": {
    "name": "ipython",
    "version": 3
   },
   "file_extension": ".py",
   "mimetype": "text/x-python",
   "name": "python",
   "nbconvert_exporter": "python",
   "pygments_lexer": "ipython3",
   "version": "3.9.7"
  }
 },
 "nbformat": 4,
 "nbformat_minor": 5
}
